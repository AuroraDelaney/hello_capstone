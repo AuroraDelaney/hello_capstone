{
 "cells": [
  {
   "cell_type": "code",
   "execution_count": null,
   "id": "01002a5c",
   "metadata": {},
   "outputs": [],
   "source": [
    "import requests\n",
    "import matplotlib.pyplot as plt\n",
    "import json\n",
    "import pandas as pd\n",
    "import seaborn as sns\n",
    "%matplotlib inline\n",
    "%reload_ext autoreload\n",
    "%autoreload 2"
   ]
  },
  {
   "cell_type": "code",
   "execution_count": null,
   "id": "ed504f88",
   "metadata": {},
   "outputs": [],
   "source": [
    "pd.set_option('display.max_columns', None)"
   ]
  },
  {
   "cell_type": "code",
   "execution_count": null,
   "id": "c5b63444",
   "metadata": {},
   "outputs": [],
   "source": [
    "monthlyfc = pd.read_csv('../data/Monthly_clean.csv')\n",
    "monthlyfc = monthlyfc.reset_index(drop=True)\n",
    "monthlyfc.head(15)"
   ]
  },
  {
   "cell_type": "code",
   "execution_count": null,
   "id": "531723ad",
   "metadata": {},
   "outputs": [],
   "source": [
    "monthlyfc.info()"
   ]
  },
  {
   "cell_type": "code",
   "execution_count": null,
   "id": "2868c1c8",
   "metadata": {},
   "outputs": [],
   "source": [
    "monthlyfc.columns"
   ]
  },
  {
   "cell_type": "code",
   "execution_count": null,
   "id": "0116b740",
   "metadata": {},
   "outputs": [],
   "source": [
    "monthly.describe"
   ]
  },
  {
   "cell_type": "code",
   "execution_count": null,
   "id": "1284bf72",
   "metadata": {},
   "outputs": [],
   "source": [
    "inflation = pd.read_csv('../data/inflation_data.csv')\n",
    "inflation = inflation.reset_index(drop=True)\n",
    "inflation.head()"
   ]
  },
  {
   "cell_type": "code",
   "execution_count": null,
   "id": "f5b08697",
   "metadata": {},
   "outputs": [],
   "source": [
    "eat = pd.read_csv('../data/Yearly_clean.csv')\n",
    "eat = eat.reset_index(drop=True)\n",
    "eat.head(5)"
   ]
  },
  {
   "cell_type": "code",
   "execution_count": null,
   "id": "d728b1a3",
   "metadata": {},
   "outputs": [],
   "source": [
    "avgfc = pd.read_csv('../data/avg monthly benefit per person state_clean.csv')\n",
    "avgfc = avgfc.reset_index(drop=True)\n",
    "avgfc.head(10)"
   ]
  },
  {
   "cell_type": "code",
   "execution_count": null,
   "id": "cffd8d06",
   "metadata": {},
   "outputs": [],
   "source": [
    "foodcost = pd.read_csv('../data/State_clean.csv')\n",
    "foodcost = foodcost.reset_index(drop=True)\n",
    "foodcost.head()"
   ]
  },
  {
   "cell_type": "code",
   "execution_count": null,
   "id": "3e6062a4",
   "metadata": {},
   "outputs": [],
   "source": [
    "FoodInflation = pd.concat([eat, inflation])\n",
    "FoodInflation.head(20)"
   ]
  },
  {
   "cell_type": "code",
   "execution_count": null,
   "id": "a352e448",
   "metadata": {},
   "outputs": [],
   "source": [
    "FoodInflation.index = pd.DatetimeIndex(FoodInflation.index)\n",
    "FoodInflation = FoodInflation.reset_index(drop=True)"
   ]
  },
  {
   "cell_type": "code",
   "execution_count": null,
   "id": "3c779c0f",
   "metadata": {},
   "outputs": [],
   "source": [
    "FoodInflation.hist(bins=10, figsize=[20, 10])"
   ]
  }
 ],
 "metadata": {
  "kernelspec": {
   "display_name": "Python 3 (ipykernel)",
   "language": "python",
   "name": "python3"
  },
  "language_info": {
   "codemirror_mode": {
    "name": "ipython",
    "version": 3
   },
   "file_extension": ".py",
   "mimetype": "text/x-python",
   "name": "python",
   "nbconvert_exporter": "python",
   "pygments_lexer": "ipython3",
   "version": "3.9.7"
  }
 },
 "nbformat": 4,
 "nbformat_minor": 5
}
