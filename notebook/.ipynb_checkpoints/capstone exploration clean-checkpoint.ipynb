{
 "cells": [
  {
   "cell_type": "code",
   "execution_count": null,
   "id": "e4d2c1e1",
   "metadata": {},
   "outputs": [],
   "source": [
    "import requests\n",
    "import matplotlib.pyplot as plt\n",
    "import json\n",
    "import pandas as pd\n",
    "import seaborn as sns\n",
    "%matplotlib inline\n",
    "%reload_ext autoreload\n",
    "%autoreload 2\n",
    "plt.style.use('seaborn-whitegrid')\n",
    "import numpy as np"
   ]
  },
  {
   "cell_type": "code",
   "execution_count": null,
   "id": "1a448749",
   "metadata": {},
   "outputs": [],
   "source": [
    "pd.set_option('display.max_columns', None)"
   ]
  },
  {
   "cell_type": "code",
   "execution_count": null,
   "id": "8506b797",
   "metadata": {},
   "outputs": [],
   "source": [
    "food = pd.read_csv('../data/Monthly_clean.csv')\n",
    "food = food.reset_index(drop=True)\n",
    "food.head(15)"
   ]
  },
  {
   "cell_type": "markdown",
   "id": "e6a1a138",
   "metadata": {},
   "source": [
    "food.info()"
   ]
  },
  {
   "cell_type": "markdown",
   "id": "72c751f0",
   "metadata": {},
   "source": [
    "food.columns"
   ]
  },
  {
   "cell_type": "markdown",
   "id": "6a288789",
   "metadata": {},
   "source": [
    "food_subset = food[['Fiscal', 'PROGRAM PARTICIPATION', 'Unnamed: 2', 'Unnamed: 3',\n",
    "       'Unnamed: 4', 'Food', 'NSA*', 'Average']]\n",
    "food_subset.head(20)"
   ]
  },
  {
   "cell_type": "code",
   "execution_count": null,
   "id": "434fc68e",
   "metadata": {},
   "outputs": [],
   "source": [
    "inflation = pd.read_csv('../data/inflation_data.csv')\n",
    "inflation = inflation.reset_index(drop=True)\n",
    "inflation.head()"
   ]
  },
  {
   "cell_type": "code",
   "execution_count": null,
   "id": "0ec3790c",
   "metadata": {},
   "outputs": [],
   "source": [
    "eat = pd.read_csv('../data/Yearly_clean.csv')\n",
    "eat = eat.reset_index(drop=True)\n",
    "eat.head(5)"
   ]
  },
  {
   "cell_type": "markdown",
   "id": "be89b594",
   "metadata": {},
   "source": [
    "eat.transpose()"
   ]
  },
  {
   "cell_type": "markdown",
   "id": "9b7f537f",
   "metadata": {},
   "source": [
    "eat.info"
   ]
  },
  {
   "cell_type": "code",
   "execution_count": null,
   "id": "85b12d18",
   "metadata": {},
   "outputs": [],
   "source": [
    "avgfc = pd.read_csv('../data/avg monthly benefit per person state_clean.csv')\n",
    "avgfc = avgfc.reset_index(drop=True)\n",
    "avgfc.head(10)"
   ]
  },
  {
   "cell_type": "markdown",
   "id": "fbaf4180",
   "metadata": {},
   "source": [
    "avgfc.info()"
   ]
  },
  {
   "cell_type": "code",
   "execution_count": null,
   "id": "70d78206",
   "metadata": {},
   "outputs": [],
   "source": [
    "foodcost = pd.read_csv('../data/State_clean.csv')\n",
    "foodcost = foodcost.reset_index(drop=True)\n",
    "foodcost.head()"
   ]
  },
  {
   "cell_type": "markdown",
   "id": "1d64cfb5",
   "metadata": {},
   "source": [
    "foodcost.info()"
   ]
  },
  {
   "cell_type": "markdown",
   "id": "3cc3d5cd",
   "metadata": {},
   "source": [
    "foodcost.head(15)"
   ]
  },
  {
   "cell_type": "code",
   "execution_count": null,
   "id": "7c8d0db2",
   "metadata": {},
   "outputs": [],
   "source": [
    "Totalfc = pd.concat([foodcost, avgfc])\n",
    "Totalfc.head(20)"
   ]
  },
  {
   "cell_type": "code",
   "execution_count": null,
   "id": "f89df98d",
   "metadata": {},
   "outputs": [],
   "source": [
    "Totalfc.isna().sum()"
   ]
  },
  {
   "cell_type": "code",
   "execution_count": null,
   "id": "a14028f1",
   "metadata": {},
   "outputs": [],
   "source": [
    "Totalfc.describe()"
   ]
  },
  {
   "cell_type": "markdown",
   "id": "5eea2e05",
   "metadata": {},
   "source": [
    "Totalfc.info"
   ]
  },
  {
   "cell_type": "code",
   "execution_count": null,
   "id": "827d96e4",
   "metadata": {},
   "outputs": [],
   "source": [
    "FoodInflation = pd.concat([eat, inflation])\n",
    "FoodInflation.head(20)\n"
   ]
  },
  {
   "cell_type": "code",
   "execution_count": null,
   "id": "ee826f90",
   "metadata": {},
   "outputs": [],
   "source": [
    "FoodInflation.index = pd.DatetimeIndex(FoodInflation.index)\n",
    "FoodInflation = FoodInflation.reset_index(drop=True)"
   ]
  },
  {
   "cell_type": "code",
   "execution_count": null,
   "id": "c389b495",
   "metadata": {},
   "outputs": [],
   "source": [
    "FoodInflation.hist(bins=10, figsize=[20, 10])"
   ]
  },
  {
   "cell_type": "code",
   "execution_count": null,
   "id": "808777bc",
   "metadata": {},
   "outputs": [],
   "source": [
    "x = np.linspace(0, 10, 30)\n",
    "y = np.sin(x)\n",
    "\n",
    "plt.plot(x, y, 'o', color='gray',\n",
    "         markersize=15, linewidth=4,\n",
    "         markerfacecolor='white',\n",
    "         markeredgecolor='gray',\n",
    "         markeredgewidth=2)\n",
    "plt.ylim(-1.2, 1.2)\n",
    "plt.xlabel(FoodInflation.amount[0])\n",
    "plt.ylabel(FoodInflation.year[1]);\n",
    "\n",
    "#FoodInflation[['amount', 'year', 'inflation rate']].plot(style=\".\")\n"
   ]
  },
  {
   "cell_type": "code",
   "execution_count": null,
   "id": "27f9117f",
   "metadata": {},
   "outputs": [],
   "source": [
    "FoodInflation.isna().sum()"
   ]
  },
  {
   "cell_type": "code",
   "execution_count": null,
   "id": "062133f9",
   "metadata": {},
   "outputs": [],
   "source": [
    "FoodInflation.describe()"
   ]
  },
  {
   "cell_type": "code",
   "execution_count": null,
   "id": "97cc1d23",
   "metadata": {},
   "outputs": [],
   "source": [
    "FoodInflation.columns"
   ]
  },
  {
   "cell_type": "code",
   "execution_count": null,
   "id": "10570439",
   "metadata": {},
   "outputs": [],
   "source": [
    "FoodInflation.rename(columns={'0:State/Indian Tribe', '1:'})"
   ]
  },
  {
   "cell_type": "markdown",
   "id": "888b9b84",
   "metadata": {},
   "source": [
    "FoodInflation_subset = FoodInflation(['Unnamed:0', 'Percent Change', 'year', 'amount', 'inflation rate'])\n",
    "FoodInflation_subset"
   ]
  },
  {
   "cell_type": "code",
   "execution_count": null,
   "id": "c213bf54",
   "metadata": {},
   "outputs": [],
   "source": [
    "FoodInflation.groupby(['inflation rate', 'year'])['amount'].count().sort_values(ascending=False).unstack()"
   ]
  },
  {
   "cell_type": "code",
   "execution_count": null,
   "id": "1f53d7ff",
   "metadata": {},
   "outputs": [],
   "source": []
  }
 ],
 "metadata": {
  "kernelspec": {
   "display_name": "Python 3 (ipykernel)",
   "language": "python",
   "name": "python3"
  },
  "language_info": {
   "codemirror_mode": {
    "name": "ipython",
    "version": 3
   },
   "file_extension": ".py",
   "mimetype": "text/x-python",
   "name": "python",
   "nbconvert_exporter": "python",
   "pygments_lexer": "ipython3",
   "version": "3.9.7"
  }
 },
 "nbformat": 4,
 "nbformat_minor": 5
}
