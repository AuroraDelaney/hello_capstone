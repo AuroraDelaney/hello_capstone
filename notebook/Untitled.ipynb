{
 "cells": [
  {
   "cell_type": "code",
   "execution_count": null,
   "id": "e4d2c1e1",
   "metadata": {},
   "outputs": [],
   "source": [
    "import requests\n",
    "import matplotlib.pyplot as plt\n",
    "import json\n",
    "import pandas as pd\n",
    "import seaborn as sns\n",
    "%matplotlib inline\n",
    "%reload_ext autoreload\n",
    "%autoreload 2"
   ]
  },
  {
   "cell_type": "code",
   "execution_count": null,
   "id": "df49af8b",
   "metadata": {},
   "outputs": [],
   "source": [
    "pd.set_option('display.max_columns', None)"
   ]
  },
  {
   "cell_type": "code",
   "execution_count": null,
   "id": "8506b797",
   "metadata": {},
   "outputs": [],
   "source": [
    "food = pd.read_csv('../data/37WIC_Monthly-5.csv', skiprows = [0,1])\n",
    "food = food.reset_index(drop=True)\n",
    "food.head()"
   ]
  },
  {
   "cell_type": "code",
   "execution_count": null,
   "id": "42781dd5",
   "metadata": {},
   "outputs": [],
   "source": [
    "food.info()"
   ]
  },
  {
   "cell_type": "code",
   "execution_count": null,
   "id": "54ccac33",
   "metadata": {},
   "outputs": [],
   "source": [
    "food.columns"
   ]
  },
  {
   "cell_type": "code",
   "execution_count": null,
   "id": "ea8e28ab",
   "metadata": {},
   "outputs": [],
   "source": [
    "food_subset = food[['Fiscal', 'PROGRAM PARTICIPATION', 'Unnamed: 2', 'Unnamed: 3',\n",
    "       'Unnamed: 4', 'Food', 'NSA*', 'Average']]\n",
    "food_subset.head(20)"
   ]
  },
  {
   "cell_type": "code",
   "execution_count": null,
   "id": "fa7ee805",
   "metadata": {},
   "outputs": [],
   "source": [
    "inflation = pd.read_csv('../data/inflation_data.csv')\n",
    "inflation = inflation.reset_index(drop=True)\n",
    "inflation.head()"
   ]
  },
  {
   "cell_type": "code",
   "execution_count": null,
   "id": "0ec3790c",
   "metadata": {},
   "outputs": [],
   "source": [
    "eat = pd.read_csv('../data/37WIC_Monthly-5-2.csv', header = None, skiprows = [0, 1], usecols=range(6))\n",
    "eat = eat.reset_index(drop=True)\n",
    "eat.head()"
   ]
  },
  {
   "cell_type": "code",
   "execution_count": null,
   "id": "c0129322",
   "metadata": {},
   "outputs": [],
   "source": [
    "eat.transpose()"
   ]
  },
  {
   "cell_type": "code",
   "execution_count": null,
   "id": "80c6ecbc",
   "metadata": {},
   "outputs": [],
   "source": [
    "eat.info"
   ]
  },
  {
   "cell_type": "code",
   "execution_count": null,
   "id": "85b12d18",
   "metadata": {},
   "outputs": [],
   "source": [
    "avgfc = pd.read_csv('../data/37WIC-avgfoodcost.csv', skiprows = [0,1])\n",
    "avgfc = avgfc.reset_index(drop=True)\n",
    "avgfc.head()"
   ]
  },
  {
   "cell_type": "code",
   "execution_count": null,
   "id": "9ade249b",
   "metadata": {},
   "outputs": [],
   "source": [
    "avgfc.info()"
   ]
  },
  {
   "cell_type": "code",
   "execution_count": null,
   "id": "70d78206",
   "metadata": {},
   "outputs": [],
   "source": [
    "foodcost = pd.read_csv('../data/37WIC-foodcost.csv', skiprows = [0,1])\n",
    "foodcost = foodcost.reset_index(drop=True)\n",
    "foodcost.head()"
   ]
  },
  {
   "cell_type": "code",
   "execution_count": null,
   "id": "33a3ef84",
   "metadata": {},
   "outputs": [],
   "source": [
    "foodcost.info()"
   ]
  },
  {
   "cell_type": "code",
   "execution_count": null,
   "id": "f5993520",
   "metadata": {},
   "outputs": [],
   "source": [
    "foodcost.head(15)"
   ]
  },
  {
   "cell_type": "code",
   "execution_count": null,
   "id": "32a66098",
   "metadata": {},
   "outputs": [],
   "source": [
    "Totalfc = pd.concat([foodcost, avgfc])\n",
    "Totalfc.head(20)"
   ]
  },
  {
   "cell_type": "code",
   "execution_count": null,
   "id": "4487bbf1",
   "metadata": {},
   "outputs": [],
   "source": [
    "Totalfc.isna().sum()"
   ]
  },
  {
   "cell_type": "code",
   "execution_count": null,
   "id": "9daaec40",
   "metadata": {},
   "outputs": [],
   "source": [
    "Totalfc.describe()"
   ]
  },
  {
   "cell_type": "code",
   "execution_count": null,
   "id": "428ae602",
   "metadata": {},
   "outputs": [],
   "source": [
    "Totalfc.info"
   ]
  },
  {
   "cell_type": "code",
   "execution_count": null,
   "id": "8db48cf9",
   "metadata": {},
   "outputs": [],
   "source": [
    "FoodInflation = pd.concat([eat, inflation])\n",
    "FoodInflation.head(20)"
   ]
  },
  {
   "cell_type": "code",
   "execution_count": null,
   "id": "a10b1e82",
   "metadata": {},
   "outputs": [],
   "source": [
    "FoodInflation.hist(bins=10, figsize=[20, 10])"
   ]
  },
  {
   "cell_type": "code",
   "execution_count": null,
   "id": "0db9778a",
   "metadata": {},
   "outputs": [],
   "source": [
    "FoodInflation.isna().sum()"
   ]
  },
  {
   "cell_type": "code",
   "execution_count": null,
   "id": "39445716",
   "metadata": {},
   "outputs": [],
   "source": [
    "FoodInflation.describe()"
   ]
  },
  {
   "cell_type": "code",
   "execution_count": null,
   "id": "8c433e29",
   "metadata": {},
   "outputs": [],
   "source": [
    "FoodInflation.columns"
   ]
  },
  {
   "cell_type": "code",
   "execution_count": null,
   "id": "ac278578",
   "metadata": {},
   "outputs": [],
   "source": [
    "FoodInflation_subset = FoodInflation(['Unnamed:0', 'Percent Change', 'year', 'amount', 'inflation rate'])\n",
    "FoodInflation_subset"
   ]
  },
  {
   "cell_type": "code",
   "execution_count": null,
   "id": "52d3f397",
   "metadata": {},
   "outputs": [],
   "source": []
  }
 ],
 "metadata": {
  "kernelspec": {
   "display_name": "Python 3 (ipykernel)",
   "language": "python",
   "name": "python3"
  },
  "language_info": {
   "codemirror_mode": {
    "name": "ipython",
    "version": 3
   },
   "file_extension": ".py",
   "mimetype": "text/x-python",
   "name": "python",
   "nbconvert_exporter": "python",
   "pygments_lexer": "ipython3",
   "version": "3.9.7"
  }
 },
 "nbformat": 4,
 "nbformat_minor": 5
}
