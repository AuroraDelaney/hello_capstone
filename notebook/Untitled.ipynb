{
 "cells": [
  {
   "cell_type": "code",
   "execution_count": null,
   "id": "e4d2c1e1",
   "metadata": {},
   "outputs": [],
   "source": [
    "import requests\n",
    "import matplotlib.pyplot as plt\n",
    "import json\n",
    "import pandas as pd\n",
    "import seaborn as sns\n",
    "%matplotlib inline\n",
    "%reload_ext autoreload\n",
    "%autoreload 2"
   ]
  },
  {
   "cell_type": "code",
   "execution_count": null,
   "id": "ded1bc3d",
   "metadata": {},
   "outputs": [],
   "source": [
    "pd.set_option('display.max_columns', None)"
   ]
  },
  {
   "cell_type": "code",
   "execution_count": null,
   "id": "8506b797",
   "metadata": {},
   "outputs": [],
   "source": [
    "food = pd.read_csv('../data/37WIC_Monthly-5.csv', skiprows = [0,1])\n",
    "food = food.reset_index(drop=True)\n",
    "food.head()"
   ]
  },
  {
   "cell_type": "code",
   "execution_count": null,
   "id": "3091b117",
   "metadata": {},
   "outputs": [],
   "source": [
    "food.info()"
   ]
  },
  {
   "cell_type": "code",
   "execution_count": null,
   "id": "d1050850",
   "metadata": {},
   "outputs": [],
   "source": [
    "food.columns"
   ]
  },
  {
   "cell_type": "code",
   "execution_count": null,
   "id": "160c0aa4",
   "metadata": {},
   "outputs": [],
   "source": [
    "food_subset = food[['Fiscal', 'PROGRAM PARTICIPATION', 'Unnamed: 2', 'Unnamed: 3',\n",
    "       'Unnamed: 4', 'Food', 'NSA*', 'Average']]\n",
    "food_subset.head(20)"
   ]
  },
  {
   "cell_type": "code",
   "execution_count": null,
   "id": "e31e0291",
   "metadata": {},
   "outputs": [],
   "source": [
    "inflation = pd.read_csv('../data/inflation_data.csv')\n",
    "inflation = inflation.reset_index(drop=True)\n",
    "inflation.head()"
   ]
  },
  {
   "cell_type": "code",
   "execution_count": null,
   "id": "0ec3790c",
   "metadata": {},
   "outputs": [],
   "source": [
    "eat = pd.read_csv('../data/37WIC_Monthly-5-2.csv', skiprows = [0, 1])\n",
    "eat = eat.reset_index(drop=True)\n",
    "eat.head()"
   ]
  },
  {
   "cell_type": "code",
   "execution_count": null,
   "id": "387e197c",
   "metadata": {},
   "outputs": [],
   "source": [
    "eat.transpose()"
   ]
  },
  {
   "cell_type": "code",
   "execution_count": null,
   "id": "70d78206",
   "metadata": {},
   "outputs": [],
   "source": [
    "foodcost = pd.read_csv('../data/37WIC-foodcost.csv', skiprows = [0,1])\n",
    "foodcost = foodcost.reset_index(drop=True)\n",
    "foodcost.head()"
   ]
  },
  {
   "cell_type": "code",
   "execution_count": null,
   "id": "85b12d18",
   "metadata": {},
   "outputs": [],
   "source": [
    "avgfc = pd.read_csv('../data/37WIC-avgfoodcost.csv', skiprows = [0,1])\n",
    "avgfc = avgfc.reset_index(drop=True)\n",
    "avgfc.head()"
   ]
  },
  {
   "cell_type": "code",
   "execution_count": null,
   "id": "bc0baa5a",
   "metadata": {},
   "outputs": [],
   "source": [
    "eat.info"
   ]
  },
  {
   "cell_type": "code",
   "execution_count": null,
   "id": "80654d3d",
   "metadata": {},
   "outputs": [],
   "source": [
    "avgfc.info()"
   ]
  },
  {
   "cell_type": "code",
   "execution_count": null,
   "id": "1febb998",
   "metadata": {},
   "outputs": [],
   "source": [
    "foodcost.info()"
   ]
  },
  {
   "cell_type": "code",
   "execution_count": null,
   "id": "71acbb96",
   "metadata": {},
   "outputs": [],
   "source": [
    "foodcostt = foodcost.rename(columns={'A': '1'}, index={'FY 2012': 'Unnamed:1'})"
   ]
  },
  {
   "cell_type": "code",
   "execution_count": null,
   "id": "5db49ae7",
   "metadata": {},
   "outputs": [],
   "source": [
    "foodcostt.head(15)"
   ]
  },
  {
   "cell_type": "code",
   "execution_count": null,
   "id": "c2a6440b",
   "metadata": {},
   "outputs": [],
   "source": []
  }
 ],
 "metadata": {
  "kernelspec": {
   "display_name": "Python 3 (ipykernel)",
   "language": "python",
   "name": "python3"
  },
  "language_info": {
   "codemirror_mode": {
    "name": "ipython",
    "version": 3
   },
   "file_extension": ".py",
   "mimetype": "text/x-python",
   "name": "python",
   "nbconvert_exporter": "python",
   "pygments_lexer": "ipython3",
   "version": "3.9.7"
  }
 },
 "nbformat": 4,
 "nbformat_minor": 5
}
