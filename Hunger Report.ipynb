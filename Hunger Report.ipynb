{
 "cells": [
  {
   "cell_type": "code",
   "execution_count": null,
   "id": "961ed977",
   "metadata": {},
   "outputs": [],
   "source": [
    "import requests\n",
    "import matplotlib.pyplot as plt\n",
    "import json\n",
    "import pandas as pd\n",
    "import seaborn as sns\n",
    "%matplotlib inline\n",
    "%reload_ext autoreload\n",
    "%autoreload 2"
   ]
  },
  {
   "cell_type": "code",
   "execution_count": null,
   "id": "0d8d57d0",
   "metadata": {},
   "outputs": [],
   "source": [
    "food = pd.read_csv('../data/37WIC_Monthly-5.csv')\n",
    "food = food.reset_index(drop=True)\n",
    "food.head()"
   ]
  },
  {
   "cell_type": "code",
   "execution_count": null,
   "id": "ce28fb59",
   "metadata": {},
   "outputs": [],
   "source": [
    "eat = pd.read_csv('../data/37WIC_Monthly-5-2.csv')\n",
    "eat = eat.reset_index(drop=True)\n",
    "eat.head()"
   ]
  },
  {
   "cell_type": "code",
   "execution_count": null,
   "id": "58e56766",
   "metadata": {},
   "outputs": [],
   "source": [
    "avgfc = pd.read_csv('../data/37WIC-avgfoodcost.csv')\n",
    "avgfc = avgfc.reset_index(drop=True)\n",
    "avgfc.head()"
   ]
  },
  {
   "cell_type": "code",
   "execution_count": null,
   "id": "6f018658",
   "metadata": {},
   "outputs": [],
   "source": [
    "foodcost = pd.read_csv('../data/37WIC-foodcost.csv')\n",
    "foodcost = foodcost.reset_index(drop=True)\n",
    "foodcost.head()"
   ]
  }
 ],
 "metadata": {
  "kernelspec": {
   "display_name": "Python 3 (ipykernel)",
   "language": "python",
   "name": "python3"
  },
  "language_info": {
   "codemirror_mode": {
    "name": "ipython",
    "version": 3
   },
   "file_extension": ".py",
   "mimetype": "text/x-python",
   "name": "python",
   "nbconvert_exporter": "python",
   "pygments_lexer": "ipython3",
   "version": "3.9.7"
  }
 },
 "nbformat": 4,
 "nbformat_minor": 5
}
